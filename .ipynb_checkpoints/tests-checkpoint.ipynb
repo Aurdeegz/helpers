{
 "cells": [
  {
   "cell_type": "code",
   "execution_count": 1,
   "metadata": {},
   "outputs": [
    {
     "name": "stdout",
     "output_type": "stream",
     "text": [
      "Loading the module: helpers.stats_helpers.py\n",
      "\n",
      "Loading the module: helpers.general_helpers\n",
      "\n",
      "numpy        1.19.2\n",
      "scipy         1.7.2\n",
      "pandas        1.2.3\n",
      "\n",
      "Loading the module: helpers.mpl_plotting_helpers\n",
      "\n"
     ]
    },
    {
     "ename": "ImportError",
     "evalue": "attempted relative import with no known parent package",
     "output_type": "error",
     "traceback": [
      "\u001b[0;31m---------------------------------------------------------------------------\u001b[0m",
      "\u001b[0;31mImportError\u001b[0m                               Traceback (most recent call last)",
      "\u001b[0;32m<ipython-input-1-c0d5325281e8>\u001b[0m in \u001b[0;36m<module>\u001b[0;34m\u001b[0m\n\u001b[1;32m      1\u001b[0m \u001b[0;32mimport\u001b[0m \u001b[0mstats_helpers\u001b[0m \u001b[0;32mas\u001b[0m \u001b[0msh\u001b[0m\u001b[0;34m\u001b[0m\u001b[0;34m\u001b[0m\u001b[0m\n\u001b[0;32m----> 2\u001b[0;31m \u001b[0;32mimport\u001b[0m \u001b[0mmpl_plotting_helpers\u001b[0m \u001b[0;32mas\u001b[0m \u001b[0mmph\u001b[0m\u001b[0;34m\u001b[0m\u001b[0;34m\u001b[0m\u001b[0m\n\u001b[0m\u001b[1;32m      3\u001b[0m \u001b[0;32mimport\u001b[0m \u001b[0mmatplotlib\u001b[0m\u001b[0;34m.\u001b[0m\u001b[0mpyplot\u001b[0m \u001b[0;32mas\u001b[0m \u001b[0mplt\u001b[0m\u001b[0;34m\u001b[0m\u001b[0;34m\u001b[0m\u001b[0m\n\u001b[1;32m      4\u001b[0m \u001b[0;32mimport\u001b[0m \u001b[0mgeneral_helpers\u001b[0m \u001b[0;32mas\u001b[0m \u001b[0mgh\u001b[0m\u001b[0;34m\u001b[0m\u001b[0;34m\u001b[0m\u001b[0m\n\u001b[1;32m      5\u001b[0m \u001b[0;34m\u001b[0m\u001b[0m\n",
      "\u001b[0;32m/windir/c/Users/redas/desktop/jupyter_directory/helpers/mpl_plotting_helpers.py\u001b[0m in \u001b[0;36m<module>\u001b[0;34m\u001b[0m\n\u001b[1;32m     56\u001b[0m \u001b[0;31m# my scripts. They are all placed in that module purely for\u001b[0m\u001b[0;34m\u001b[0m\u001b[0;34m\u001b[0m\u001b[0;34m\u001b[0m\u001b[0m\n\u001b[1;32m     57\u001b[0m \u001b[0;31m# convenience and generalizability.\u001b[0m\u001b[0;34m\u001b[0m\u001b[0;34m\u001b[0m\u001b[0;34m\u001b[0m\u001b[0m\n\u001b[0;32m---> 58\u001b[0;31m \u001b[0;32mfrom\u001b[0m \u001b[0;34m.\u001b[0m \u001b[0;32mimport\u001b[0m \u001b[0mgeneral_helpers\u001b[0m \u001b[0;32mas\u001b[0m \u001b[0mgh\u001b[0m\u001b[0;34m\u001b[0m\u001b[0;34m\u001b[0m\u001b[0m\n\u001b[0m\u001b[1;32m     59\u001b[0m \u001b[0;34m\u001b[0m\u001b[0m\n\u001b[1;32m     60\u001b[0m \u001b[0;31m# The Pandas Helper file has scripts that help manage Pandas\u001b[0m\u001b[0;34m\u001b[0m\u001b[0;34m\u001b[0m\u001b[0;34m\u001b[0m\u001b[0m\n",
      "\u001b[0;31mImportError\u001b[0m: attempted relative import with no known parent package"
     ]
    }
   ],
   "source": [
    "import stats_helpers as sh\n",
    "import mpl_plotting_helpers as mph\n",
    "import matplotlib.pyplot as plt\n",
    "import general_helpers as gh\n",
    "\n",
    "from matplotlib import gridspec\n",
    "from matplotlib.patches import Patch"
   ]
  },
  {
   "cell_type": "code",
   "execution_count": null,
   "metadata": {},
   "outputs": [],
   "source": [
    "import random as r\n",
    "from math import pi\n",
    "\n",
    "a = [\"Gauss\", [r.gauss(6,2) for _ in range(25)]]\n",
    "b = [r\"$\\beta$\", [r.betavariate(1,1) for _ in range(30)]]\n",
    "c = [r\"$\\gamma$\", [r.gammavariate(1,0.5) for _ in range(25)]]\n",
    "d = [r\"$\\exp$\", [r.expovariate(6) for _ in range(25)]]\n",
    "e = [r\"$U$\", [r.uniform(-4,4) for _ in range(55)]]\n",
    "f = [r\"lognorm\", [r.lognormvariate(-1,0.1) for _ in range(35)]]\n",
    "g = [\"von\", [r.vonmisesvariate(pi, 0.1) for _ in range(15)]]\n",
    "h = [\"par\", [r.paretovariate(0.02) for _ in range(30)]]\n",
    "i = [\"weib\", [r.weibullvariate(2,1) for _ in range(10)]]"
   ]
  },
  {
   "cell_type": "code",
   "execution_count": null,
   "metadata": {
    "scrolled": false
   },
   "outputs": [],
   "source": [
    "labelled_groups = [a,b,c,d]#,e,f,g, i]\n",
    "comp = sh.HolmSidak(*labelled_groups)\n",
    "comp = comp.grab_results(\"Holm-Sidak\")\n",
    "\n",
    "ax = dotplot(labelled_groups,\n",
    "             comparisons = comp,\n",
    "             errorbar = \"sd\",\n",
    "             foldchange_axis = True,\n",
    "             foldchange_group = r\"$\\beta$\")\n",
    "plt.show()\n",
    "\n"
   ]
  },
  {
   "cell_type": "code",
   "execution_count": null,
   "metadata": {},
   "outputs": [],
   "source": [
    "ax=western_quant(\"westerns/Supplementary Folder 1 File B proteomics pErk Western Quantification.xls\",\n",
    "              bins = 3,\n",
    "              exp_channel = 700,\n",
    "              control_channel = 800,\n",
    "              filename = \"westerns/Supplementary Folder 1 File B proteomics pErk Western Quantification.pdf\",\n",
    "              labels = [\"0min\", \"2min\", \"5min\"],\n",
    "              title = \"pTyr Abundance\",\n",
    "              ylabel = \"Corrected pErk Signal (a.u.)\",\n",
    "              foldchange_axis = True,\n",
    "              foldchange_group = \"0min\",\n",
    "              errorbar = \"sd\")\n",
    "plt.show()"
   ]
  },
  {
   "cell_type": "code",
   "execution_count": null,
   "metadata": {},
   "outputs": [],
   "source": []
  }
 ],
 "metadata": {
  "kernelspec": {
   "display_name": "Python 3",
   "language": "python",
   "name": "python3"
  },
  "language_info": {
   "codemirror_mode": {
    "name": "ipython",
    "version": 3
   },
   "file_extension": ".py",
   "mimetype": "text/x-python",
   "name": "python",
   "nbconvert_exporter": "python",
   "pygments_lexer": "ipython3",
   "version": "3.8.10"
  }
 },
 "nbformat": 4,
 "nbformat_minor": 4
}
