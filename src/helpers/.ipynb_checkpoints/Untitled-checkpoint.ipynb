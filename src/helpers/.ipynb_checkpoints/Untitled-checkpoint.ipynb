{
 "cells": [
  {
   "cell_type": "code",
   "execution_count": 1,
   "metadata": {},
   "outputs": [],
   "source": [
    "csdm_10_r2 = [0.974,0.984,0.972]\n",
    "csdm_10_m = [1,0.99,0.97]\n",
    "csdm_10_y = [-0.17,0,0.37]\n",
    "\n",
    "csdm_03_r2 = [0.939,0.949,0.936]\n",
    "csdm_03_m = [0.97,0.97,0.97]\n",
    "csdm_03_y = [0.17,0.32,0.49]\n",
    "\n",
    "csdm_01_r2 = [0.568,0.594,0.535]\n",
    "csdm_01_m = [0.69,0.79,0.85]\n",
    "csdm_01_y = [3.61,2.87,2.09]\n",
    "\n",
    "csdm = [[csdm_10_r2,csdm_03_r2,csdm_01_r2],\n",
    "        [csdm_10_m,csdm_03_m,csdm_01_m],\n",
    "        [csdm_10_y,csdm_03_y,csdm_01_y]]\n",
    "\n",
    "c_10_r2 = [0.984,0.985,0.981]\n",
    "c_10_m = [1,0.99,0.98]\n",
    "c_10_y = [-0.11,0.03,0.22]\n",
    "\n",
    "c_03_r2 = [0.950,0.955,0.959]\n",
    "c_03_m = [0.97,0.95,0.95]\n",
    "c_03_y = [0.29,0.48,0.50]\n",
    "\n",
    "c_01_r2 = [0.853,0.879,0.857]\n",
    "c_01_m = [0.84,0.89,0.97]\n",
    "c_01_y = [2.00,1.26,0.24]\n",
    "\n",
    "c = [[c_10_r2,c_03_r2,c_01_r2],\n",
    "        [c_10_m,c_03_m,c_01_m],\n",
    "        [c_10_y,c_03_y,c_01_y]]\n",
    "\n",
    "bsdm_10_r2 = [0.884,0.864,0.889]\n",
    "bsdm_10_m = [0.97,0.95,0.97]\n",
    "bsdm_10_y = [0.55,0.26,0.25]\n",
    "\n",
    "bsdm_03_r2 = [0.806,0.682,0.717]\n",
    "bsdm_03_m = [0.91,0.79,0.81]\n",
    "bsdm_03_y = [0.55,1.95,2.11]\n",
    "\n",
    "bsdm_01_r2 = [0.428,0.557,0.597]\n",
    "bsdm_01_m = [0.5,0.71,0.96]\n",
    "bsdm_01_y = [5.88,3.88,0.62]\n",
    "\n",
    "bsdm = [[bsdm_10_r2,bsdm_03_r2,bsdm_01_r2],\n",
    "        [bsdm_10_m,bsdm_03_m,bsdm_01_m],\n",
    "        [bsdm_10_y,bsdm_03_y,bsdm_01_y]]\n",
    "\n",
    "b_10_r2 = [0.872,0.897,0.915]\n",
    "b_10_m = [0.96,0.97,0.95]\n",
    "b_10_y = [0.09,0.03,0.58]\n",
    "\n",
    "b_03_r2 = [0.858,0.862,0.888]\n",
    "b_03_m = [0.96,0.93,0.91]\n",
    "b_03_y = [0.15,0.54,0.97]\n",
    "\n",
    "b_01_r2 = [0.720,0.747,0.859]\n",
    "b_01_m = [0.75,0.78,0.94]\n",
    "b_01_y = [2.88,2.5,0.59]\n",
    "\n",
    "b = [[b_10_r2,b_03_r2,b_01_r2],\n",
    "        [b_10_m,b_03_m,b_01_m],\n",
    "        [b_10_y,b_03_y,b_01_y]]\n"
   ]
  },
  {
   "cell_type": "code",
   "execution_count": 2,
   "metadata": {},
   "outputs": [
    {
     "name": "stdout",
     "output_type": "stream",
     "text": [
      "Loading the module: helpers.mpl_plotting_helpers\n",
      "\n"
     ]
    },
    {
     "ename": "ImportError",
     "evalue": "attempted relative import with no known parent package",
     "output_type": "error",
     "traceback": [
      "\u001b[0;31m---------------------------------------------------------------------------\u001b[0m",
      "\u001b[0;31mImportError\u001b[0m                               Traceback (most recent call last)",
      "\u001b[0;32m<ipython-input-2-68463c48c68e>\u001b[0m in \u001b[0;36m<module>\u001b[0;34m\u001b[0m\n\u001b[0;32m----> 1\u001b[0;31m \u001b[0;32mimport\u001b[0m \u001b[0mmpl_plotting_helpers\u001b[0m \u001b[0;32mas\u001b[0m \u001b[0mmph\u001b[0m\u001b[0;34m\u001b[0m\u001b[0;34m\u001b[0m\u001b[0m\n\u001b[0m",
      "\u001b[0;32m/windir/c/Users/redas/desktop/jupyter_directory/helpers/src/helpers/mpl_plotting_helpers.py\u001b[0m in \u001b[0;36m<module>\u001b[0;34m\u001b[0m\n\u001b[1;32m     59\u001b[0m \u001b[0;31m# my scripts. They are all placed in that module purely for\u001b[0m\u001b[0;34m\u001b[0m\u001b[0;34m\u001b[0m\u001b[0;34m\u001b[0m\u001b[0m\n\u001b[1;32m     60\u001b[0m \u001b[0;31m# convenience and generalizability.\u001b[0m\u001b[0;34m\u001b[0m\u001b[0;34m\u001b[0m\u001b[0;34m\u001b[0m\u001b[0m\n\u001b[0;32m---> 61\u001b[0;31m \u001b[0;32mfrom\u001b[0m \u001b[0;34m.\u001b[0m \u001b[0;32mimport\u001b[0m \u001b[0mgeneral_helpers\u001b[0m \u001b[0;32mas\u001b[0m \u001b[0mgh\u001b[0m\u001b[0;34m\u001b[0m\u001b[0;34m\u001b[0m\u001b[0m\n\u001b[0m\u001b[1;32m     62\u001b[0m \u001b[0;34m\u001b[0m\u001b[0m\n\u001b[1;32m     63\u001b[0m \u001b[0;31m# The Pandas Helper file has scripts that help manage Pandas\u001b[0m\u001b[0;34m\u001b[0m\u001b[0;34m\u001b[0m\u001b[0;34m\u001b[0m\u001b[0m\n",
      "\u001b[0;31mImportError\u001b[0m: attempted relative import with no known parent package"
     ]
    }
   ],
   "source": [
    "import mpl_plotting_helpers as mph"
   ]
  },
  {
   "cell_type": "code",
   "execution_count": null,
   "metadata": {},
   "outputs": [],
   "source": []
  }
 ],
 "metadata": {
  "kernelspec": {
   "display_name": "Python 3",
   "language": "python",
   "name": "python3"
  },
  "language_info": {
   "codemirror_mode": {
    "name": "ipython",
    "version": 3
   },
   "file_extension": ".py",
   "mimetype": "text/x-python",
   "name": "python",
   "nbconvert_exporter": "python",
   "pygments_lexer": "ipython3",
   "version": "3.8.10"
  }
 },
 "nbformat": 4,
 "nbformat_minor": 4
}
